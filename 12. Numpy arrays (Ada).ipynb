{
 "cells": [
  {
   "cell_type": "markdown",
   "id": "1a10ad62",
   "metadata": {},
   "source": [
    " Массив – это совокупность элементов, которые хранятся последовательно в памяти и имеют общий тип данных. Каждому его элементу присвоен собственный индекс, который позволяет обращаться к нему для чтения или изменения го значения."
   ]
  },
  {
   "cell_type": "markdown",
   "id": "cf987788",
   "metadata": {},
   "source": [
    "1. Cоздать список my_list, состоящий из чисел 1,2,3"
   ]
  },
  {
   "cell_type": "code",
   "execution_count": 1,
   "id": "24bd1516",
   "metadata": {},
   "outputs": [],
   "source": [
    "my_list = [1,2,3]"
   ]
  },
  {
   "cell_type": "markdown",
   "id": "baab2fa1",
   "metadata": {},
   "source": [
    "2. С использованием numpy список my_list преобразовать в одномерный массив"
   ]
  },
  {
   "cell_type": "code",
   "execution_count": 2,
   "id": "5f9f966a",
   "metadata": {},
   "outputs": [
    {
     "data": {
      "text/plain": [
       "array([1, 2, 3])"
      ]
     },
     "execution_count": 2,
     "metadata": {},
     "output_type": "execute_result"
    }
   ],
   "source": [
    "import numpy as np\n",
    "\n",
    "np.array(my_list)"
   ]
  },
  {
   "cell_type": "markdown",
   "id": "2c1557a7",
   "metadata": {},
   "source": [
    "3. Создать вложенный список my_list2, состоящий из [1,2,3],[4,5,6],[7,8,9]"
   ]
  },
  {
   "cell_type": "code",
   "execution_count": 3,
   "id": "6fc28cce",
   "metadata": {},
   "outputs": [],
   "source": [
    "my_list2 = [[1, 2, 3], [4, 5, 6], [7, 8, 9]]"
   ]
  },
  {
   "cell_type": "markdown",
   "id": "f16094af",
   "metadata": {},
   "source": [
    "4. С использованием numpy список my_list2 преобразовать в двумерный массив"
   ]
  },
  {
   "cell_type": "code",
   "execution_count": 4,
   "id": "c3d18258",
   "metadata": {},
   "outputs": [
    {
     "data": {
      "text/plain": [
       "array([[1, 2, 3],\n",
       "       [4, 5, 6],\n",
       "       [7, 8, 9]])"
      ]
     },
     "execution_count": 4,
     "metadata": {},
     "output_type": "execute_result"
    }
   ],
   "source": [
    "np.array(my_list2)"
   ]
  },
  {
   "cell_type": "markdown",
   "id": "08957400",
   "metadata": {},
   "source": [
    "5. С использованием arange сгенерировать одномерный массив, состоящий из 0, 1, 2, 3, 4, 5, 6, 7, 8, 9"
   ]
  },
  {
   "cell_type": "code",
   "execution_count": 5,
   "id": "bcd46ea2",
   "metadata": {},
   "outputs": [
    {
     "name": "stdout",
     "output_type": "stream",
     "text": [
      "[0 1 2 3 4 5 6 7 8 9]\n"
     ]
    }
   ],
   "source": [
    "print(np.arange(0, 10))"
   ]
  },
  {
   "cell_type": "markdown",
   "id": "64d00494",
   "metadata": {},
   "source": [
    "6. С использованием arange сгенерировать одномерный массив, состоящий из 0,  2,  4,  6,  8, 10"
   ]
  },
  {
   "cell_type": "code",
   "execution_count": 6,
   "id": "0a0f37ae",
   "metadata": {},
   "outputs": [
    {
     "name": "stdout",
     "output_type": "stream",
     "text": [
      "[0 2 4 6 8]\n"
     ]
    }
   ],
   "source": [
    "print(np.arange(0, 10, 2))"
   ]
  },
  {
   "cell_type": "markdown",
   "id": "38ab40a6",
   "metadata": {},
   "source": [
    "7. С использованием zeros сгенерировать одномерный массив, состоящий из 0., 0., 0."
   ]
  },
  {
   "cell_type": "code",
   "execution_count": 7,
   "id": "c9ad3d8b",
   "metadata": {},
   "outputs": [
    {
     "name": "stdout",
     "output_type": "stream",
     "text": [
      "[0. 0. 0.]\n"
     ]
    }
   ],
   "source": [
    "print(np.zeros(3))"
   ]
  },
  {
   "cell_type": "markdown",
   "id": "b061b58a",
   "metadata": {},
   "source": [
    "8. С использованием zeros сгенерировать двумерный массив, состоящий из нулей, который распределены в 5 строк и в 5 столбцов"
   ]
  },
  {
   "cell_type": "code",
   "execution_count": 8,
   "id": "9efb13a4",
   "metadata": {},
   "outputs": [
    {
     "name": "stdout",
     "output_type": "stream",
     "text": [
      "[[0. 0. 0. 0. 0.]\n",
      " [0. 0. 0. 0. 0.]\n",
      " [0. 0. 0. 0. 0.]\n",
      " [0. 0. 0. 0. 0.]\n",
      " [0. 0. 0. 0. 0.]]\n"
     ]
    }
   ],
   "source": [
    "print(np.zeros((5, 5)))"
   ]
  },
  {
   "cell_type": "markdown",
   "id": "6b6969bc",
   "metadata": {},
   "source": [
    "9. С использованием zeros сгенерировать двумерный массив, состоящий из нулей, которые распределены в 2 строки и 3 столбца"
   ]
  },
  {
   "cell_type": "code",
   "execution_count": 9,
   "id": "77fbf508",
   "metadata": {},
   "outputs": [
    {
     "name": "stdout",
     "output_type": "stream",
     "text": [
      "[[0. 0. 0.]\n",
      " [0. 0. 0.]]\n"
     ]
    }
   ],
   "source": [
    "print(np.zeros((2, 3)))"
   ]
  },
  {
   "cell_type": "markdown",
   "id": "24bdc11e",
   "metadata": {},
   "source": [
    "10. С использованием ones сгенерировать одномерный массив, состоящий из 4 единиц"
   ]
  },
  {
   "cell_type": "code",
   "execution_count": 10,
   "id": "b3999e0a",
   "metadata": {},
   "outputs": [
    {
     "data": {
      "text/plain": [
       "array([1., 1., 1., 1.])"
      ]
     },
     "execution_count": 10,
     "metadata": {},
     "output_type": "execute_result"
    }
   ],
   "source": [
    "np.ones((4))"
   ]
  },
  {
   "cell_type": "markdown",
   "id": "53dec9a0",
   "metadata": {},
   "source": [
    "11. С использованием ones сгенерировать двумерный массив, состоящий из единиц, которые распределены в 3 строки и 4 столбца"
   ]
  },
  {
   "cell_type": "code",
   "execution_count": 11,
   "id": "16de2a0b",
   "metadata": {},
   "outputs": [
    {
     "data": {
      "text/plain": [
       "array([[1., 1., 1., 1.],\n",
       "       [1., 1., 1., 1.],\n",
       "       [1., 1., 1., 1.]])"
      ]
     },
     "execution_count": 11,
     "metadata": {},
     "output_type": "execute_result"
    }
   ],
   "source": [
    "np.ones((3, 4))"
   ]
  },
  {
   "cell_type": "markdown",
   "id": "11e21f56",
   "metadata": {},
   "source": [
    "12. С использованием linspace сгенерировать одномерный массив, в котором содержится 10 чисел в диапазоне от 0 до 5"
   ]
  },
  {
   "cell_type": "code",
   "execution_count": 12,
   "id": "8ffe7585",
   "metadata": {},
   "outputs": [
    {
     "data": {
      "text/plain": [
       "array([0.        , 0.55555556, 1.11111111, 1.66666667, 2.22222222,\n",
       "       2.77777778, 3.33333333, 3.88888889, 4.44444444, 5.        ])"
      ]
     },
     "execution_count": 12,
     "metadata": {},
     "output_type": "execute_result"
    }
   ],
   "source": [
    "np.linspace(0, 5, 10)"
   ]
  },
  {
   "cell_type": "markdown",
   "id": "67b3640e",
   "metadata": {},
   "source": [
    "13. С использованием linspace сгенерировать одномерный массив, в котором содержится 100 чисел в диапазоне от 0 до 5"
   ]
  },
  {
   "cell_type": "code",
   "execution_count": 13,
   "id": "18de95cc",
   "metadata": {},
   "outputs": [
    {
     "data": {
      "text/plain": [
       "array([0.        , 0.05050505, 0.1010101 , 0.15151515, 0.2020202 ,\n",
       "       0.25252525, 0.3030303 , 0.35353535, 0.4040404 , 0.45454545,\n",
       "       0.50505051, 0.55555556, 0.60606061, 0.65656566, 0.70707071,\n",
       "       0.75757576, 0.80808081, 0.85858586, 0.90909091, 0.95959596,\n",
       "       1.01010101, 1.06060606, 1.11111111, 1.16161616, 1.21212121,\n",
       "       1.26262626, 1.31313131, 1.36363636, 1.41414141, 1.46464646,\n",
       "       1.51515152, 1.56565657, 1.61616162, 1.66666667, 1.71717172,\n",
       "       1.76767677, 1.81818182, 1.86868687, 1.91919192, 1.96969697,\n",
       "       2.02020202, 2.07070707, 2.12121212, 2.17171717, 2.22222222,\n",
       "       2.27272727, 2.32323232, 2.37373737, 2.42424242, 2.47474747,\n",
       "       2.52525253, 2.57575758, 2.62626263, 2.67676768, 2.72727273,\n",
       "       2.77777778, 2.82828283, 2.87878788, 2.92929293, 2.97979798,\n",
       "       3.03030303, 3.08080808, 3.13131313, 3.18181818, 3.23232323,\n",
       "       3.28282828, 3.33333333, 3.38383838, 3.43434343, 3.48484848,\n",
       "       3.53535354, 3.58585859, 3.63636364, 3.68686869, 3.73737374,\n",
       "       3.78787879, 3.83838384, 3.88888889, 3.93939394, 3.98989899,\n",
       "       4.04040404, 4.09090909, 4.14141414, 4.19191919, 4.24242424,\n",
       "       4.29292929, 4.34343434, 4.39393939, 4.44444444, 4.49494949,\n",
       "       4.54545455, 4.5959596 , 4.64646465, 4.6969697 , 4.74747475,\n",
       "       4.7979798 , 4.84848485, 4.8989899 , 4.94949495, 5.        ])"
      ]
     },
     "execution_count": 13,
     "metadata": {},
     "output_type": "execute_result"
    }
   ],
   "source": [
    "np.linspace(0, 5, 100)"
   ]
  },
  {
   "cell_type": "markdown",
   "id": "0db7df42",
   "metadata": {},
   "source": [
    "14. С использованием numpy создать единичную матрицу размером 4"
   ]
  },
  {
   "cell_type": "code",
   "execution_count": 14,
   "id": "9b0e35be",
   "metadata": {},
   "outputs": [
    {
     "data": {
      "text/plain": [
       "array([[1., 0., 0., 0.],\n",
       "       [0., 1., 0., 0.],\n",
       "       [0., 0., 1., 0.],\n",
       "       [0., 0., 0., 1.]])"
      ]
     },
     "execution_count": 14,
     "metadata": {},
     "output_type": "execute_result"
    }
   ],
   "source": [
    "np.eye(4)"
   ]
  },
  {
   "cell_type": "markdown",
   "id": "335cb865",
   "metadata": {},
   "source": [
    "15. С использованием random.rand сгенерировать одномерный массив, состоящий из 5 элементов . По какому распределению генерируются числа?"
   ]
  },
  {
   "cell_type": "code",
   "execution_count": 15,
   "id": "dba7f77b",
   "metadata": {},
   "outputs": [
    {
     "data": {
      "text/plain": [
       "array([0.42696926, 0.09323966, 0.51032192, 0.66010347, 0.0058791 ])"
      ]
     },
     "execution_count": 15,
     "metadata": {},
     "output_type": "execute_result"
    }
   ],
   "source": [
    "np.random.rand(5)"
   ]
  },
  {
   "cell_type": "markdown",
   "id": "342e3379",
   "metadata": {},
   "source": [
    "16.  С использованием random.rand сгенерировать двумерный массив, состоящий из 5 строк и 5 столбцов"
   ]
  },
  {
   "cell_type": "code",
   "execution_count": 16,
   "id": "d777d2da",
   "metadata": {},
   "outputs": [
    {
     "data": {
      "text/plain": [
       "array([[0.95086264, 0.36053585, 0.04649044, 0.2534764 , 0.84081151],\n",
       "       [0.16529131, 0.53671388, 0.14412732, 0.99950212, 0.61086031],\n",
       "       [0.06784612, 0.60514945, 0.25366288, 0.27901945, 0.93141581],\n",
       "       [0.97051072, 0.90119096, 0.67293572, 0.54714933, 0.37241076],\n",
       "       [0.93401133, 0.43771511, 0.36740741, 0.80782603, 0.04077003]])"
      ]
     },
     "execution_count": 16,
     "metadata": {},
     "output_type": "execute_result"
    }
   ],
   "source": [
    "np.random.rand(5, 5)"
   ]
  },
  {
   "cell_type": "markdown",
   "id": "1f2431f7",
   "metadata": {},
   "source": [
    "17. С использованием random.randn сгенерировать одномерный массив, состоящий из 2 элементов. По какому распределению генерируются числа?"
   ]
  },
  {
   "cell_type": "code",
   "execution_count": 17,
   "id": "1f59690c",
   "metadata": {},
   "outputs": [
    {
     "data": {
      "text/plain": [
       "array([-1.07091383, -0.16792031])"
      ]
     },
     "execution_count": 17,
     "metadata": {},
     "output_type": "execute_result"
    }
   ],
   "source": [
    "np.random.randn(2)"
   ]
  },
  {
   "cell_type": "markdown",
   "id": "1074078a",
   "metadata": {},
   "source": [
    "18. С использованием random.randn сгенерировать двумерный массив, состоящий из 5 строк и 5 столбцов "
   ]
  },
  {
   "cell_type": "code",
   "execution_count": 18,
   "id": "36d67478",
   "metadata": {},
   "outputs": [
    {
     "data": {
      "text/plain": [
       "array([[-0.63907281,  0.11545157,  0.76710155,  0.83516445,  0.5022038 ],\n",
       "       [-0.0608537 , -0.15842333,  1.82976394, -0.56597594,  0.92199147],\n",
       "       [ 0.60092624, -0.93045702,  1.20349634, -0.21960382,  1.42310258],\n",
       "       [-1.04656095, -1.61501134, -0.92919399, -0.26322312, -0.04217747],\n",
       "       [ 0.09669736, -0.18043574, -1.64936176, -1.00367484,  1.41145173]])"
      ]
     },
     "execution_count": 18,
     "metadata": {},
     "output_type": "execute_result"
    }
   ],
   "source": [
    "np.random.randn(5, 5)"
   ]
  },
  {
   "cell_type": "markdown",
   "id": "8b06e5f3",
   "metadata": {},
   "source": [
    "19. С использованием random.randint сгенерировать одномерный массив из 10 чисел в диапазоне от 1 до 100 "
   ]
  },
  {
   "cell_type": "code",
   "execution_count": 19,
   "id": "e67b26ba",
   "metadata": {},
   "outputs": [
    {
     "data": {
      "text/plain": [
       "array([72, 73, 55, 18, 12, 62, 41, 60, 97, 50])"
      ]
     },
     "execution_count": 19,
     "metadata": {},
     "output_type": "execute_result"
    }
   ],
   "source": [
    "np.random.randint(1, 101, 10)"
   ]
  },
  {
   "cell_type": "markdown",
   "id": "5a6aa1ee",
   "metadata": {},
   "source": [
    "20. С использованием arange создать одномерный массив arr, состоящий из 25 чисел от 0 до 24 включительно "
   ]
  },
  {
   "cell_type": "code",
   "execution_count": 20,
   "id": "dabfcc55",
   "metadata": {},
   "outputs": [
    {
     "data": {
      "text/plain": [
       "array([ 0,  1,  2,  3,  4,  5,  6,  7,  8,  9, 10, 11, 12, 13, 14, 15, 16,\n",
       "       17, 18, 19, 20, 21, 22, 23, 24])"
      ]
     },
     "execution_count": 20,
     "metadata": {},
     "output_type": "execute_result"
    }
   ],
   "source": [
    "arr = np.arange(25)\n",
    "arr"
   ]
  },
  {
   "cell_type": "markdown",
   "id": "6c1bb608",
   "metadata": {},
   "source": [
    "21. С использованием метода reshape преобразовать одномерный массив arr в двумерный , состоящий из 5 строк и 5 столбцов"
   ]
  },
  {
   "cell_type": "code",
   "execution_count": 21,
   "id": "0bb80592",
   "metadata": {},
   "outputs": [
    {
     "data": {
      "text/plain": [
       "array([[ 0,  1,  2,  3,  4],\n",
       "       [ 5,  6,  7,  8,  9],\n",
       "       [10, 11, 12, 13, 14],\n",
       "       [15, 16, 17, 18, 19],\n",
       "       [20, 21, 22, 23, 24]])"
      ]
     },
     "execution_count": 21,
     "metadata": {},
     "output_type": "execute_result"
    }
   ],
   "source": [
    "arr.reshape(5,5)"
   ]
  },
  {
   "cell_type": "markdown",
   "id": "10801140",
   "metadata": {},
   "source": [
    "22. с использованием методов argmin и argmax  вывести минимальное и максимальное значения в arr"
   ]
  },
  {
   "cell_type": "code",
   "execution_count": 22,
   "id": "90b8d2ff",
   "metadata": {},
   "outputs": [
    {
     "name": "stdout",
     "output_type": "stream",
     "text": [
      "Минимальное значение: 0\n",
      "Максимальное значение: 24\n"
     ]
    }
   ],
   "source": [
    "min_value = arr.min()\n",
    "max_value = arr.max()\n",
    "print(\"Минимальное значение:\", min_value)\n",
    "print(\"Максимальное значение:\", max_value)"
   ]
  },
  {
   "cell_type": "markdown",
   "id": "fa86ec55",
   "metadata": {},
   "source": [
    "23. С использованием arange создать одномерный массив arr в диапазоне от 0 до 11. "
   ]
  },
  {
   "cell_type": "code",
   "execution_count": 23,
   "id": "da7aea23",
   "metadata": {},
   "outputs": [
    {
     "name": "stdout",
     "output_type": "stream",
     "text": [
      "[ 0  1  2  3  4  5  6  7  8  9 10 11]\n"
     ]
    }
   ],
   "source": [
    "arr = np.arange(12)\n",
    "print(arr)"
   ]
  },
  {
   "cell_type": "markdown",
   "id": "695bf74c",
   "metadata": {},
   "source": [
    "24. Из массива arr создать массив slice_of_arr, который берет элементы с 0 по 6"
   ]
  },
  {
   "cell_type": "code",
   "execution_count": 24,
   "id": "a6784cee",
   "metadata": {},
   "outputs": [
    {
     "name": "stdout",
     "output_type": "stream",
     "text": [
      "[0 1 2 3 4 5 6]\n"
     ]
    }
   ],
   "source": [
    "slice_of_arr = arr[:7]\n",
    "print(slice_of_arr)"
   ]
  },
  {
   "cell_type": "markdown",
   "id": "d5e00493",
   "metadata": {},
   "source": [
    "25. С помощью индексирования все элементы массива  slice_of_arr заменить на 99"
   ]
  },
  {
   "cell_type": "code",
   "execution_count": 25,
   "id": "668c824f",
   "metadata": {},
   "outputs": [
    {
     "name": "stdout",
     "output_type": "stream",
     "text": [
      "[99 99 99 99 99 99 99]\n",
      "[99 99 99 99 99 99 99  7  8  9 10 11]\n"
     ]
    }
   ],
   "source": [
    "slice_of_arr[:] = 99\n",
    "print(slice_of_arr)\n",
    "print(arr)"
   ]
  },
  {
   "cell_type": "markdown",
   "id": "fc109944",
   "metadata": {},
   "source": [
    "26. Что при этом произошло с массивом arr?"
   ]
  },
  {
   "cell_type": "markdown",
   "id": "927a4df6",
   "metadata": {},
   "source": [
    "После этой операции slice_of_arr будет содержать только 99, и так как slice_of_arr является срезом arr, изменения также отразятся на arr."
   ]
  },
  {
   "cell_type": "markdown",
   "id": "f6e1691c",
   "metadata": {},
   "source": [
    "27. Создать массив, состоящий из [5,10,15],[20,25,30],[35,40,45]. Необходимый вывод ниже"
   ]
  },
  {
   "cell_type": "code",
   "execution_count": 26,
   "id": "2c142c0d",
   "metadata": {},
   "outputs": [
    {
     "name": "stdout",
     "output_type": "stream",
     "text": [
      "[[ 5 10 15]\n",
      " [20 25 30]\n",
      " [35 40 45]]\n",
      "25\n",
      "30\n",
      "40\n"
     ]
    }
   ],
   "source": [
    "matrix = np.array([[5, 10, 15], [20, 25, 30], [35, 40, 45]])\n",
    "print(matrix)\n",
    "\n",
    "print(matrix[1, 1])  \n",
    "print(matrix[1, 2])  \n",
    "print(matrix[2, 1])  "
   ]
  },
  {
   "cell_type": "markdown",
   "id": "438fdc4c",
   "metadata": {},
   "source": [
    "28. Вывести по-отдельности значения 25, 30, 40"
   ]
  },
  {
   "cell_type": "code",
   "execution_count": 27,
   "id": "5fdbeb53",
   "metadata": {},
   "outputs": [
    {
     "name": "stdout",
     "output_type": "stream",
     "text": [
      "[[10 15]\n",
      " [25 30]]\n"
     ]
    }
   ],
   "source": [
    "sub_matrix = matrix[:2, 1:]\n",
    "print(sub_matrix)"
   ]
  },
  {
   "cell_type": "markdown",
   "id": "34635f7c",
   "metadata": {},
   "source": [
    "29. Вывести часть матрицы как в примере вывода ниже"
   ]
  },
  {
   "cell_type": "code",
   "execution_count": 28,
   "id": "b267fde1",
   "metadata": {},
   "outputs": [
    {
     "name": "stdout",
     "output_type": "stream",
     "text": [
      "[False False False False False  True  True  True  True  True  True]\n"
     ]
    }
   ],
   "source": [
    "arr = np.arange(1, 12)\n",
    "bool_arr = arr > 5\n",
    "print(bool_arr)"
   ]
  },
  {
   "cell_type": "markdown",
   "id": "6929fd87",
   "metadata": {},
   "source": [
    "30. Заново создать одномерный массив arr , состоящий из чисел от 1 до 11."
   ]
  },
  {
   "cell_type": "code",
   "execution_count": 32,
   "id": "b678bd8f",
   "metadata": {},
   "outputs": [
    {
     "data": {
      "text/plain": [
       "array([ 1,  2,  3,  4,  5,  6,  7,  8,  9, 10, 11])"
      ]
     },
     "execution_count": 32,
     "metadata": {},
     "output_type": "execute_result"
    }
   ],
   "source": [
    "arr = np.arange(1, 12)\n",
    "arr"
   ]
  },
  {
   "cell_type": "markdown",
   "id": "130f24d3",
   "metadata": {},
   "source": [
    "31. Созать bool_arr , который через conditional selection проверяет каждый элемент из массива arr на >5 "
   ]
  },
  {
   "cell_type": "code",
   "execution_count": 30,
   "id": "4b2e6b9a",
   "metadata": {},
   "outputs": [
    {
     "name": "stdout",
     "output_type": "stream",
     "text": [
      "[False False False False False  True  True  True  True  True  True]\n"
     ]
    }
   ],
   "source": [
    "bool_arr = arr > 5\n",
    "print(bool_arr)"
   ]
  },
  {
   "cell_type": "markdown",
   "id": "dab93247",
   "metadata": {},
   "source": [
    "32. Как с использованием bool_arr вывести в arr значения > 5 "
   ]
  },
  {
   "cell_type": "code",
   "execution_count": 31,
   "id": "fc68248f",
   "metadata": {},
   "outputs": [
    {
     "name": "stdout",
     "output_type": "stream",
     "text": [
      "[ 6  7  8  9 10 11]\n"
     ]
    }
   ],
   "source": [
    "print(arr[bool_arr])"
   ]
  },
  {
   "cell_type": "code",
   "execution_count": null,
   "id": "3ecb2923",
   "metadata": {},
   "outputs": [],
   "source": []
  }
 ],
 "metadata": {
  "kernelspec": {
   "display_name": "Python 3 (ipykernel)",
   "language": "python",
   "name": "python3"
  },
  "language_info": {
   "codemirror_mode": {
    "name": "ipython",
    "version": 3
   },
   "file_extension": ".py",
   "mimetype": "text/x-python",
   "name": "python",
   "nbconvert_exporter": "python",
   "pygments_lexer": "ipython3",
   "version": "3.10.9"
  }
 },
 "nbformat": 4,
 "nbformat_minor": 5
}
